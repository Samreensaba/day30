{
 "cells": [
  {
   "cell_type": "code",
   "execution_count": null,
   "id": "92635616-c7aa-484d-90e8-0532385ecdfa",
   "metadata": {},
   "outputs": [],
   "source": [
    "print(\"30 Days Down\")\n",
    "print()\n",
    "\n",
    "for i in range(1,31):\n",
    "  print(f\"Day {i}: \")\n",
    "  userResponse = input(f\"What do you think of day {i}? \\n\")\n",
    "  print()\n",
    "  thought = \"You thought Day {i} was\".format(i=i)\n",
    "  print(f\"{thought: ^50}\")\n",
    "  print(f\"{userResponse: ^50}\")\n",
    "  print()"
   ]
  }
 ],
 "metadata": {
  "kernelspec": {
   "display_name": "Python 3 (ipykernel)",
   "language": "python",
   "name": "python3"
  },
  "language_info": {
   "codemirror_mode": {
    "name": "ipython",
    "version": 3
   },
   "file_extension": ".py",
   "mimetype": "text/x-python",
   "name": "python",
   "nbconvert_exporter": "python",
   "pygments_lexer": "ipython3",
   "version": "3.12.4"
  }
 },
 "nbformat": 4,
 "nbformat_minor": 5
}
